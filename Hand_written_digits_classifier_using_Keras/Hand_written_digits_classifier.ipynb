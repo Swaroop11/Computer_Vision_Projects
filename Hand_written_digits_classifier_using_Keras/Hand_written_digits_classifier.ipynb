{
 "cells": [
  {
   "cell_type": "markdown",
   "metadata": {},
   "source": [
    "Using MNIST dataset grayscale image classifier is desgined to classify handwritten digits (28 * 28 pixels) into 10 categories (0 to 10). \n",
    "\n",
    "60,000 - Training images\n",
    "10,000 - Testing images\n",
    "\n",
    "Program is written mainly using Keras library\n",
    "\n",
    "MNIST dataset is a mutidimensional Numpy arrays called as tensor"
   ]
  },
  {
   "cell_type": "code",
   "execution_count": 15,
   "metadata": {},
   "outputs": [],
   "source": [
    "import keras\n",
    "\n",
    "#Keras has perloaded MNIST data in the form of a set of four Numpy arrays\n",
    "from keras.datasets import mnist\n",
    "\n",
    "#Forming 2 tuples for training and test datasets\n",
    "#mnist.load_data() it loads 4 numpay arrays and are assigned to tuples\n",
    "\n",
    "(train_images, train_labels), (test_images, test_labels) = mnist.load_data()    "
   ]
  },
  {
   "cell_type": "code",
   "execution_count": 16,
   "metadata": {},
   "outputs": [
    {
     "name": "stdout",
     "output_type": "stream",
     "text": [
      "(60000, 28, 28)\n",
      "[5 0 4 ... 5 6 8]\n",
      "3\n",
      "(10000, 28, 28)\n",
      "[7 2 1 ... 4 5 6]\n"
     ]
    }
   ],
   "source": [
    "#Images are encoded as Numpy arrays and labels are an array of digits, ranging from 0 to 9\n",
    "#Images and Labels have a one-to-one correspondence\n",
    "\n",
    "#let's look at the data\n",
    "print(train_images.shape)   #to get sahpe; no elements in each axes\n",
    "print(train_labels)\n",
    "print(train_images.ndim)    #to get dimension of tensor\n",
    "\n",
    "#For test dataset\n",
    "print(test_images.shape)    #to get sahpe; no elements in each axes\n",
    "print(test_labels)"
   ]
  },
  {
   "cell_type": "code",
   "execution_count": 17,
   "metadata": {},
   "outputs": [
    {
     "data": {
      "image/png": "[encoded data removed]",
      "text/plain": [
       "<Figure size 432x288 with 1 Axes>"
      ]
     },
     "metadata": {},
     "output_type": "display_data"
    }
   ],
   "source": [
    "#Displaying  the fourth digit\n",
    "digit = train_images[3]\n",
    "\n",
    "import matplotlib.pyplot as plt\n",
    "plt.imshow(digit, cmap = plt.cm.binary)      #imshow method to show image\n",
    "plt.show()"
   ]
  },
  {
   "cell_type": "code",
   "execution_count": 18,
   "metadata": {},
   "outputs": [],
   "source": [
    "#Building the network; layers are data processing modules that we can think as filters of data\n",
    "\n",
    "from keras import models  #to make sequential type networks\n",
    "from keras import layers  #to add layers to network\n",
    "\n",
    "#Adding layers to network; Dense here is used to define fully connected layers. \n",
    "#First layer has 512 nodes that will take input of 784 (28*28) pixel values to pass it to next layer.\n",
    "#Last layer is 10-way softamx layer, it means it will return array of 10 probability scores (summing to 1).\n",
    "\n",
    "#layers.Dense takes only 2D arrays\n",
    "#Layers can be interpreted as a function, which takes 2D tensor\n",
    "\n",
    "network = models.Sequential()   \n",
    "network.add(layers.Dense(512, activation = 'relu', input_shape=(28 * 28,)))\n",
    "network.add(layers.Dense(10, activation = \"softmax\"))\n",
    "\n",
    "#output = relu(dot(W, input) + b     W-2D tenosr, b- vector\n",
    "#Explaniation of above layer.Dense function"
   ]
  },
  {
   "cell_type": "code",
   "execution_count": 19,
   "metadata": {},
   "outputs": [],
   "source": [
    "#RMSProp: Root Mean Square Propagation\n",
    "#Now compiliing the network\n",
    "network.compile(optimizer = 'rmsprop',                #Mechanism by which network will update itself\n",
    "                loss = 'categorical_crossentropy',    #To measure the performance of the network \n",
    "                metrics = ['accuracy'])               #Metrics to monitor during testing and training\n"
   ]
  },
  {
   "cell_type": "code",
   "execution_count": 20,
   "metadata": {},
   "outputs": [],
   "source": [
    "#Before training the network, we have to reshape the data in a shape that network expects and scaling all values in [0, 1] interval\n",
    "#from (60000, 28, 28) type unit8  with values [0,255] interval to float array (60000, 28 * 28) with values range between[0, 1]\n",
    "\n",
    "#Preparing the image data\n",
    "train_images = train_images.reshape((60000, 28 * 28))  #to change the shape\n",
    "train_images = train_images.astype('float32') / 255   #to change the data type and values are converted in the range 0 to 1\n",
    "\n",
    "test_images = test_images.reshape((10000, 28 * 28))  #to change the shape\n",
    "test_images = test_images.astype('float32') / 255   #to change the data type and values are converted in the range of 0 to1"
   ]
  },
  {
   "cell_type": "code",
   "execution_count": 21,
   "metadata": {},
   "outputs": [],
   "source": [
    "#We need to categorically encode the labels as all ten-values are different types of categories\n",
    "from keras.utils import to_categorical\n",
    "\n",
    "train_labels = to_categorical(train_labels)  #Encoding train_labels\n",
    "test_labels = to_categorical(test_labels)    #Encoding test_labels"
   ]
  },
  {
   "cell_type": "code",
   "execution_count": 22,
   "metadata": {},
   "outputs": [
    {
     "name": "stdout",
     "output_type": "stream",
     "text": [
      "Epoch 1/10\n",
      "60000/60000 [==============================] - 5s 91us/step - loss: 0.2583 - acc: 0.9254\n",
      "Epoch 2/10\n",
      "60000/60000 [==============================] - 6s 95us/step - loss: 0.1044 - acc: 0.9693\n",
      "Epoch 3/10\n",
      "60000/60000 [==============================] - 5s 89us/step - loss: 0.0693 - acc: 0.9790\n",
      "Epoch 4/10\n",
      "60000/60000 [==============================] - 5s 91us/step - loss: 0.0499 - acc: 0.9851\n",
      "Epoch 5/10\n",
      "60000/60000 [==============================] - 6s 98us/step - loss: 0.0366 - acc: 0.9890\n",
      "Epoch 6/10\n",
      "60000/60000 [==============================] - 6s 92us/step - loss: 0.0287 - acc: 0.9912\n",
      "Epoch 7/10\n",
      "60000/60000 [==============================] - 6s 94us/step - loss: 0.0215 - acc: 0.9938\n",
      "Epoch 8/10\n",
      "60000/60000 [==============================] - 6s 97us/step - loss: 0.0170 - acc: 0.9950\n",
      "Epoch 9/10\n",
      "60000/60000 [==============================] - 6s 92us/step - loss: 0.0123 - acc: 0.9966\n",
      "Epoch 10/10\n",
      "60000/60000 [==============================] - 6s 98us/step - loss: 0.0101 - acc: 0.9970\n"
     ]
    },
    {
     "data": {
      "text/plain": [
       "<keras.callbacks.History at 0x13532cd9ac8>"
      ]
     },
     "execution_count": 22,
     "metadata": {},
     "output_type": "execute_result"
    }
   ],
   "source": [
    "#Training the network with fit method on network with train_images and trian_labels\n",
    "network.fit(train_images, train_labels, epochs = 10, batch_size = 128)\n",
    "\n",
    "#loss: over training data\n",
    "#acc: over training data"
   ]
  },
  {
   "cell_type": "code",
   "execution_count": 23,
   "metadata": {},
   "outputs": [
    {
     "name": "stdout",
     "output_type": "stream",
     "text": [
      "10000/10000 [==============================] - 1s 64us/step\n",
      "test_acc:  0.9808\n"
     ]
    }
   ],
   "source": [
    "#Network's accuracy on test data: evaluate method is used to test on test dataset \n",
    "test_loss, test_acc = network.evaluate(test_images, test_labels)\n",
    "print(\"test_acc: \", test_acc)\n",
    "\n",
    "#Less test-set accuracy is due to overfitting of model"
   ]
  }
 ],
 "metadata": {
  "kernelspec": {
   "display_name": "Python 3",
   "language": "python",
   "name": "python3"
  },
  "language_info": {
   "codemirror_mode": {
    "name": "ipython",
    "version": 3
   },
   "file_extension": ".py",
   "mimetype": "text/x-python",
   "name": "python",
   "nbconvert_exporter": "python",
   "pygments_lexer": "ipython3",
   "version": "3.6.5"
  }
 },
 "nbformat": 4,
 "nbformat_minor": 2
}
